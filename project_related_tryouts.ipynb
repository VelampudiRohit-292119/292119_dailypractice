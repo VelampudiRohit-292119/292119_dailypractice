{
 "metadata": {
  "language_info": {
   "codemirror_mode": {
    "name": "ipython",
    "version": 3
   },
   "file_extension": ".py",
   "mimetype": "text/x-python",
   "name": "python",
   "nbconvert_exporter": "python",
   "pygments_lexer": "ipython3",
   "version": "3.8.5"
  },
  "orig_nbformat": 2,
  "kernelspec": {
   "name": "python385jvsc74a57bd01e915f0a29dc84041eaeb02b7b1a21c440e37a87b61d44d5e84a515737dc82bc",
   "display_name": "Python 3.8.5 64-bit (conda)"
  }
 },
 "nbformat": 4,
 "nbformat_minor": 2,
 "cells": [
  {
   "cell_type": "code",
   "execution_count": 10,
   "metadata": {},
   "outputs": [
    {
     "output_type": "stream",
     "name": "stdout",
     "text": [
      "123 ROHIT 46.0\n"
     ]
    }
   ],
   "source": [
    "def add_rec():\n",
    "    while(True):\n",
    "        roll=input(\"Enter roll no \")\n",
    "        if(roll.isnumeric()==True):\n",
    "            roll=int(roll)\n",
    "            break\n",
    "        else:\n",
    "            print(\"Please enter only digits.\")\n",
    "    while(True):\n",
    "        name=input(\"Enter name \")\n",
    "        if(name.isalpha()==True):\n",
    "            break\n",
    "        else:\n",
    "            print(\"Please Enter only alphabets.\")\n",
    "\n",
    "    name=name.upper()\n",
    "    while(True):\n",
    "        per=float(input(\"Enter percentage \"))\n",
    "        if(per>100.0):\n",
    "            print(\"Please enter below 100\")\n",
    "        else:\n",
    "            per=round(per,2)\n",
    "            break\n",
    "    print(roll,name,per)\n",
    "add_rec()"
   ]
  },
  {
   "cell_type": "code",
   "execution_count": 3,
   "metadata": {},
   "outputs": [
    {
     "output_type": "stream",
     "name": "stdout",
     "text": [
      "Stringn contains other chars too.\n"
     ]
    }
   ],
   "source": [
    "str = '123' \n",
    "if str.isalpha() == True:  \n",
    "    print(\"String contains alphabets\")  \n",
    "else: print(\"Stringn contains other chars too.\")  "
   ]
  },
  {
   "cell_type": "code",
   "execution_count": null,
   "metadata": {},
   "outputs": [],
   "source": []
  }
 ]
}