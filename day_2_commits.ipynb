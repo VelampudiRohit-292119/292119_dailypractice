{
 "metadata": {
  "language_info": {
   "codemirror_mode": {
    "name": "ipython",
    "version": 3
   },
   "file_extension": ".py",
   "mimetype": "text/x-python",
   "name": "python",
   "nbconvert_exporter": "python",
   "pygments_lexer": "ipython3",
   "version": "3.8.5"
  },
  "orig_nbformat": 2,
  "kernelspec": {
   "name": "python385jvsc74a57bd01e915f0a29dc84041eaeb02b7b1a21c440e37a87b61d44d5e84a515737dc82bc",
   "display_name": "Python 3.8.5 64-bit (conda)"
  }
 },
 "nbformat": 4,
 "nbformat_minor": 2,
 "cells": [
  {
   "cell_type": "code",
   "execution_count": 8,
   "metadata": {},
   "outputs": [
    {
     "output_type": "stream",
     "name": "stdout",
     "text": [
      "The next date is [yyyy-mm-dd] 1234-3-5.\n"
     ]
    }
   ],
   "source": [
    "# Write a Python program to get next day of a given date using if-elif-else \n",
    "year = int(input(\"Input a year: \"))\n",
    "\n",
    "if (year % 400 == 0):\n",
    "    leap_year = True\n",
    "elif (year % 100 == 0):\n",
    "    leap_year = False\n",
    "elif (year % 4 == 0):\n",
    "    leap_year = True\n",
    "else:\n",
    "    leap_year = False\n",
    "\n",
    "while(True):\n",
    "    month = int(input(\"Input a month [1-12]: \"))\n",
    "    if(month>12 or month<1):\n",
    "        print(\"please enter in the range\")\n",
    "    else:\n",
    "        break\n",
    "\n",
    "if month in (1, 3, 5, 7, 8, 10, 12):\n",
    "    month_len = 31\n",
    "elif month == 2:\n",
    "    if leap_year:\n",
    "        month_len = 29\n",
    "    else:\n",
    "        month_len = 28\n",
    "else:\n",
    "    month_len = 30\n",
    "\n",
    "\n",
    "\n",
    "while(True):\n",
    "    day = int(input(\"Input a day [1-31]: \"))\n",
    "    if(day>31 or day<1):\n",
    "        print(\"please enter in the range\")\n",
    "    else:\n",
    "        break\n",
    "\n",
    "if day < month_len:\n",
    "    day += 1\n",
    "else:\n",
    "    day = 1\n",
    "    if month == 12:\n",
    "        month = 1\n",
    "        year += 1\n",
    "    else:\n",
    "        month += 1\n",
    "print(\"The next date is [yyyy-mm-dd] %d-%d-%d.\" % (year, month, day))\n",
    "\n"
   ]
  },
  {
   "cell_type": "code",
   "execution_count": 9,
   "metadata": {},
   "outputs": [
    {
     "output_type": "stream",
     "name": "stdout",
     "text": [
      "shaking my head\n"
     ]
    }
   ],
   "source": [
    "string=input(\"Enter the string: \")\n",
    "if(string==\"lol\"):\n",
    "    print(\"laughing out loud\")\n",
    "elif(string==\"rofl\"):\n",
    "    print(\"rolling on the floor laughing\")\n",
    "elif(string==\"lmk\"):\n",
    "    print(\"let me know\")\n",
    "elif(string==\"smh\"):\n",
    "    print(\"shaking my head\")\n",
    "else:\n",
    "    print(\"none of mentioned\")"
   ]
  },
  {
   "cell_type": "code",
   "execution_count": null,
   "metadata": {},
   "outputs": [],
   "source": []
  },
  {
   "cell_type": "code",
   "execution_count": 1,
   "metadata": {},
   "outputs": [
    {
     "output_type": "stream",
     "name": "stdout",
     "text": [
      "[1, 0, 3, 2, 5, 4]\n"
     ]
    }
   ],
   "source": [
    "#Write a Python program to change the position of every n-th value with the (n+1)th in a list\n",
    "def posi_swap(list):\n",
    "    for i in range(0,len(list),2):\n",
    "        list[i],list[i+1]=list[i+1],list[i]\n",
    "    return list\n",
    "\n",
    "list=[0,1,2,3,4,5]\n",
    "\n",
    "print(posi_swap(list))"
   ]
  },
  {
   "cell_type": "code",
   "execution_count": 1,
   "metadata": {},
   "outputs": [
    {
     "output_type": "stream",
     "name": "stdout",
     "text": [
      "4\n"
     ]
    }
   ],
   "source": [
    "#Write a Python program to find the second smallest number in a list\n",
    "a=[3,5,4,1,2]\n",
    "a.sort(reverse=True)\n",
    "a.pop(0)\n",
    "print(a[0])"
   ]
  },
  {
   "cell_type": "code",
   "execution_count": 3,
   "metadata": {},
   "outputs": [
    {
     "output_type": "stream",
     "name": "stdout",
     "text": [
      "14\n0\n"
     ]
    }
   ],
   "source": [
    "#Write a Python program to find maximum and the minimum value in a set\n",
    "sets=set([4,5,6,7,8,1,2,3,14,0])\n",
    "print(max(sets))\n",
    "print(min(sets))"
   ]
  },
  {
   "cell_type": "code",
   "execution_count": 4,
   "metadata": {},
   "outputs": [
    {
     "output_type": "stream",
     "name": "stdout",
     "text": [
      "[1, 3, 4, 9, 0]\n"
     ]
    }
   ],
   "source": [
    "#Write a Python program to find the repeated items of a tuple\n",
    "tuplex = (1,2,3,4,4,1,3,5,6,7,8,9,9,0,1,0)\n",
    "unique = []\n",
    "for item in tuplex:\n",
    "    if(tuplex.count(item)>1):\n",
    "        if not item in unique:\n",
    "            unique.append(item)\n",
    "print(unique)       \n",
    "         "
   ]
  },
  {
   "cell_type": "code",
   "execution_count": 5,
   "metadata": {},
   "outputs": [
    {
     "output_type": "stream",
     "name": "stdout",
     "text": [
      "{'Sachin': 10, 'MSD': 7, 'Kohli': 18, 'Rohit': 45}\n"
     ]
    }
   ],
   "source": [
    "#Write a Python program to convert a list of tuples into a dictionary\n",
    "lis=[('Sachin', 10), ('MSD', 7), ('Kohli', 18), ('Rohit', 45)]\n",
    "print (dict(lis))\n"
   ]
  },
  {
   "cell_type": "code",
   "execution_count": 6,
   "metadata": {},
   "outputs": [
    {
     "output_type": "stream",
     "name": "stdout",
     "text": [
      "{'d': 6, 'c': 4, 'a': 10, 'b': 8}\n"
     ]
    }
   ],
   "source": [
    "#Write a Python script to merge two Python dictionaries\n",
    "dict1 = {'a': 10, 'b': 8}\n",
    "dict2 = {'d': 6, 'c': 4}\n",
    "dict2.update(dict1)\n",
    "print(dict2)\n"
   ]
  },
  {
   "cell_type": "code",
   "execution_count": 7,
   "metadata": {},
   "outputs": [
    {
     "output_type": "stream",
     "name": "stdout",
     "text": [
      "{1: {2: {3: {4: {}}}}}\n"
     ]
    }
   ],
   "source": [
    "# Write a Python program to convert a list into a nested dictionary of keys\n",
    "num_list = [1, 2, 3, 4]\n",
    "new_dict = current = {}\n",
    "for name in num_list:\n",
    "    current[name] = {}\n",
    "    current = current[name]\n",
    "print(new_dict)"
   ]
  },
  {
   "cell_type": "code",
   "execution_count": 10,
   "metadata": {},
   "outputs": [
    {
     "output_type": "stream",
     "name": "stdout",
     "text": [
      "float\n"
     ]
    }
   ],
   "source": [
    "num=input(\"Enter the number:\")\n",
    "if(num=='0'):\n",
    "    print(\"Zero\")\n",
    "elif(num.find('+')!=-1):\n",
    "    print(\"complex\")\n",
    "elif(num.isalnum()==True):\n",
    "    print(\"string\")\n",
    "elif(num.find('+')==-1):\n",
    "    if(num.find('.')>=1):\n",
    "        print(\"float\")\n",
    "    else:\n",
    "        print(\"real\")\n",
    "else:\n",
    "    print(\"None of wanted\")"
   ]
  },
  {
   "cell_type": "code",
   "execution_count": null,
   "metadata": {},
   "outputs": [],
   "source": []
  }
 ]
}