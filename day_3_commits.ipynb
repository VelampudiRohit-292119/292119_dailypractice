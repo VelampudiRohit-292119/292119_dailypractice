{
 "metadata": {
  "language_info": {
   "codemirror_mode": {
    "name": "ipython",
    "version": 3
   },
   "file_extension": ".py",
   "mimetype": "text/x-python",
   "name": "python",
   "nbconvert_exporter": "python",
   "pygments_lexer": "ipython3",
   "version": "3.8.5"
  },
  "orig_nbformat": 2,
  "kernelspec": {
   "name": "python385jvsc74a57bd01e915f0a29dc84041eaeb02b7b1a21c440e37a87b61d44d5e84a515737dc82bc",
   "display_name": "Python 3.8.5 64-bit (conda)"
  }
 },
 "nbformat": 4,
 "nbformat_minor": 2,
 "cells": [
  {
   "cell_type": "code",
   "execution_count": 1,
   "metadata": {},
   "outputs": [
    {
     "output_type": "stream",
     "name": "stdout",
     "text": [
      "Lambda functions\n"
     ]
    }
   ],
   "source": [
    "print(\"Lambda functions\")"
   ]
  },
  {
   "cell_type": "code",
   "execution_count": 2,
   "metadata": {},
   "outputs": [
    {
     "output_type": "stream",
     "name": "stdout",
     "text": [
      "<function <lambda> at 0x000001ABECAEB040>\nsum =  30\n"
     ]
    }
   ],
   "source": [
    "x = lambda a:a+10   \n",
    "print(x)  \n",
    "print(\"sum = \",x(20))  "
   ]
  },
  {
   "cell_type": "code",
   "execution_count": 6,
   "metadata": {},
   "outputs": [
    {
     "output_type": "stream",
     "name": "stdout",
     "text": [
      "20\n"
     ]
    }
   ],
   "source": [
    "def x(a):  \n",
    "    return a+10  \n",
    "print(x(10)) "
   ]
  },
  {
   "cell_type": "code",
   "execution_count": 7,
   "metadata": {},
   "outputs": [
    {
     "output_type": "stream",
     "name": "stdout",
     "text": [
      "0\n1\n4\n9\n16\n"
     ]
    }
   ],
   "source": [
    "#squares of all numbers till given number\n",
    "a= lambda b:b**2\n",
    "num=int(input())\n",
    "for i in range(num):\n",
    "    print(a(i))"
   ]
  },
  {
   "cell_type": "code",
   "execution_count": 8,
   "metadata": {},
   "outputs": [
    {
     "output_type": "stream",
     "name": "stdout",
     "text": [
      "(123, 45, 93)\n"
     ]
    }
   ],
   "source": [
    "lst = (123,23,256,34,45,667,93)  \n",
    "oddlist = tuple(filter(lambda x:(x%3 == 0),lst))   \n",
    "print(oddlist) "
   ]
  },
  {
   "cell_type": "code",
   "execution_count": 9,
   "metadata": {},
   "outputs": [
    {
     "output_type": "stream",
     "name": "stdout",
     "text": [
      "[8, 10, 14, 24, 66, 90, 1356, 152, 182]\n"
     ]
    }
   ],
   "source": [
    "li = [4,5,7,12,33,45,678,76,91]\n",
    "final_list = list(map(lambda x: x*2, li))\n",
    "print(final_list)\n"
   ]
  },
  {
   "cell_type": "code",
   "execution_count": 12,
   "metadata": {},
   "outputs": [
    {
     "output_type": "stream",
     "name": "stdout",
     "text": [
      "Exception handling\n"
     ]
    }
   ],
   "source": [
    "print(\"Exception handling\")"
   ]
  },
  {
   "cell_type": "code",
   "execution_count": 13,
   "metadata": {},
   "outputs": [
    {
     "output_type": "stream",
     "name": "stdout",
     "text": [
      "Can't divide with zero\n"
     ]
    }
   ],
   "source": [
    "#DividedByZero Error being handled with try-except block\n",
    "try:  \n",
    "    a = int(input(\"Enter a:\"))    \n",
    "    b = int(input(\"Enter b:\"))    \n",
    "    c = a/b  \n",
    "except:  \n",
    "    print(\"Can't divide with zero\")  "
   ]
  },
  {
   "cell_type": "code",
   "execution_count": 17,
   "metadata": {},
   "outputs": [
    {
     "output_type": "stream",
     "name": "stdout",
     "text": [
      "a/b = 1\nDivision successful\n"
     ]
    }
   ],
   "source": [
    "try:    \n",
    "    a = int(input(\"Enter a:\"))    \n",
    "    b = int(input(\"Enter b:\"))    \n",
    "    c = a/b  \n",
    "    print(\"a/b = %d\"%c)    \n",
    "except Exception:    \n",
    "    print(\"can't divide by zero\")    \n",
    "    print(Exception)  \n",
    "else:    \n",
    "    print(\"Division successful\")  "
   ]
  },
  {
   "cell_type": "code",
   "execution_count": 18,
   "metadata": {},
   "outputs": [
    {
     "output_type": "stream",
     "name": "stdout",
     "text": [
      "can't divide by zero\ndivision by zero\n"
     ]
    }
   ],
   "source": [
    "try:    \n",
    "    a = int(input(\"Enter a:\"))    \n",
    "    b = int(input(\"Enter b:\"))    \n",
    "    c = a/b  \n",
    "    print(\"a/b = %d\"%c)    \n",
    "except Exception as e:    \n",
    "    print(\"can't divide by zero\")    \n",
    "    print(e)  #here e prints the type of exception we had in the program\n",
    "else:    \n",
    "    print(\"Hi I am else block\")    "
   ]
  },
  {
   "cell_type": "code",
   "execution_count": 19,
   "metadata": {},
   "outputs": [
    {
     "output_type": "stream",
     "name": "stdout",
     "text": [
      "File not found\n"
     ]
    }
   ],
   "source": [
    "try:        \n",
    "    fileptr = open(\"file.txt\",\"r\")    \n",
    "except IOError:    \n",
    "    print(\"File not found\")    #IOError\n",
    "else:    \n",
    "    print(\"The file opened successfully\")    \n",
    "    fileptr.close()    "
   ]
  },
  {
   "cell_type": "code",
   "execution_count": 26,
   "metadata": {},
   "outputs": [
    {
     "output_type": "stream",
     "name": "stdout",
     "text": [
      "Arithmetic Exception or IO\n"
     ]
    }
   ],
   "source": [
    "#Multiple exceptions\n",
    "try:    \n",
    "    a=10/0;   \n",
    "    fileptr = open(\"file.txt\",\"r\")    \n",
    "except(ArithmeticError, IOError):      #any of these type of errors, or even both occur in try, it prints content in except block.\n",
    "    print(\"Arithmetic Exception or IO\")      \n",
    "else:      \n",
    "    print(\"Successfully Done\") "
   ]
  },
  {
   "cell_type": "code",
   "execution_count": 27,
   "metadata": {},
   "outputs": [
    {
     "output_type": "stream",
     "name": "stdout",
     "text": [
      "Can't divide by zero\nThis is always executed\n"
     ]
    }
   ],
   "source": [
    "# try-except-finally\n",
    "\n",
    "try:\n",
    "\tk = 5//0 # raises divide by zero exception.\n",
    "\tprint(k)\n",
    "\t\n",
    "except ZeroDivisionError:\n",
    "\tprint(\"Can't divide by zero\")\n",
    "\t\n",
    "finally:\n",
    "\tprint('This is always executed') #this gets printed no matter what\n"
   ]
  },
  {
   "cell_type": "code",
   "execution_count": 28,
   "metadata": {},
   "outputs": [
    {
     "output_type": "stream",
     "name": "stdout",
     "text": [
      "The age is not valid\n"
     ]
    }
   ],
   "source": [
    "#raise keyword\n",
    "try:    \n",
    "    age = int(input(\"Enter the age:\"))    \n",
    "    if(age<18):    \n",
    "        raise ValueError   \n",
    "    else:    \n",
    "        print(\"the age is valid\")    \n",
    "except ValueError:    \n",
    "    print(\"The age is not valid\")  "
   ]
  }
 ]
}