{
 "metadata": {
  "language_info": {
   "codemirror_mode": {
    "name": "ipython",
    "version": 3
   },
   "file_extension": ".py",
   "mimetype": "text/x-python",
   "name": "python",
   "nbconvert_exporter": "python",
   "pygments_lexer": "ipython3",
   "version": "3.8.5"
  },
  "orig_nbformat": 2,
  "kernelspec": {
   "name": "python385jvsc74a57bd01e915f0a29dc84041eaeb02b7b1a21c440e37a87b61d44d5e84a515737dc82bc",
   "display_name": "Python 3.8.5 64-bit (conda)"
  }
 },
 "nbformat": 4,
 "nbformat_minor": 2,
 "cells": [
  {
   "cell_type": "code",
   "execution_count": 1,
   "metadata": {},
   "outputs": [
    {
     "output_type": "stream",
     "name": "stdout",
     "text": [
      "1000\n"
     ]
    }
   ],
   "source": [
    "print(1000)"
   ]
  },
  {
   "cell_type": "code",
   "execution_count": 1,
   "metadata": {},
   "outputs": [
    {
     "output_type": "stream",
     "name": "stdout",
     "text": [
      "<class 'int'>\n<class 'str'>\n<class 'float'>\n<class 'complex'>\n"
     ]
    }
   ],
   "source": [
    "a=85  \n",
    "b=\"Hello world\"  \n",
    "c = 8.67\n",
    "d = 3+4j\n",
    "print(type(a))  \n",
    "print(type(b))  \n",
    "print(type(c))  \n",
    "print(type(d))  "
   ]
  },
  {
   "cell_type": "code",
   "execution_count": 2,
   "metadata": {},
   "outputs": [
    {
     "output_type": "stream",
     "name": "stdout",
     "text": [
      "c is largest\n"
     ]
    }
   ],
   "source": [
    "a = int(input(\"Enter a: \"));  \n",
    "b = int(input(\"Enter b: \"));  \n",
    "c = int(input(\"Enter c: \"));  \n",
    "if a>b and a>c:  \n",
    "    print(\"a is largest\");  \n",
    "if b>a and b>c:  \n",
    "    print(\"b is largest\");  \n",
    "if c>a and c>b:  \n",
    "    print(\"c is largest\");  "
   ]
  },
  {
   "cell_type": "code",
   "execution_count": 3,
   "metadata": {},
   "outputs": [
    {
     "output_type": "stream",
     "name": "stdout",
     "text": [
      "You can watch the movie!\n"
     ]
    }
   ],
   "source": [
    "age = int (input(\"Welcome to Inox. Please Enter your age for age-check: \"))  \n",
    "if age>=18:  \n",
    "    print(\"You can watch the movie!\");  \n",
    "else:  \n",
    "    print(\"Sorry! this movie is for above 18 only!\");"
   ]
  },
  {
   "cell_type": "code",
   "execution_count": 4,
   "metadata": {},
   "outputs": [
    {
     "output_type": "stream",
     "name": "stdout",
     "text": [
      "You scored grade C ...\n"
     ]
    }
   ],
   "source": [
    "marks = int(input(\"Enter the marks? \"))  \n",
    "if marks > 85 and marks <= 100:  \n",
    "   print(\"Congrats ! you scored grade A ...\")  \n",
    "elif marks > 60 and marks <= 85:  \n",
    "   print(\"You scored grade B + ...\")  \n",
    "elif marks > 40 and marks <= 60:  \n",
    "   print(\"You scored grade B ...\")  \n",
    "elif (marks > 30 and marks <= 40):  \n",
    "   print(\"You scored grade C ...\")  \n",
    "else:  \n",
    "   print(\"Sorry you are fail ?\")  "
   ]
  },
  {
   "cell_type": "code",
   "execution_count": 12,
   "metadata": {},
   "outputs": [
    {
     "output_type": "error",
     "ename": "SyntaxError",
     "evalue": "invalid syntax (<ipython-input-12-4dc647a6c429>, line 1)",
     "traceback": [
      "\u001b[1;36m  File \u001b[1;32m\"<ipython-input-12-4dc647a6c429>\"\u001b[1;36m, line \u001b[1;32m1\u001b[0m\n\u001b[1;33m    list = [1,2,3,,4,5, ] #here, i am gonna give an empty element.lets see what happens. so here we see that noprob occurs if u leave a comma at end, but problem arrises when u leave a place in middle\u001b[0m\n\u001b[1;37m                  ^\u001b[0m\n\u001b[1;31mSyntaxError\u001b[0m\u001b[1;31m:\u001b[0m invalid syntax\n"
     ]
    }
   ],
   "source": [
    "list = [1,2,3,,4,5, ] #here, i am gonna give an empty element.lets see what happens. so here we see that noprob occurs if u leave a comma at end, but problem arrises when u leave a place in middle\n",
    "n = 5  \n",
    "for i in list:  \n",
    "    c = n*i  \n",
    "    print(c)  "
   ]
  },
  {
   "cell_type": "code",
   "execution_count": 13,
   "metadata": {},
   "outputs": [
    {
     "output_type": "stream",
     "name": "stdout",
     "text": [
      "0 1 2 3 4 5 6 7 8 9 "
     ]
    }
   ],
   "source": [
    "for i in range(10):  #use of range\n",
    "    print(i,end = ' ') "
   ]
  },
  {
   "cell_type": "code",
   "execution_count": 14,
   "metadata": {},
   "outputs": [
    {
     "output_type": "stream",
     "name": "stdout",
     "text": [
      "5 * 1 = 5\n5 * 2 = 10\n5 * 3 = 15\n5 * 4 = 20\n5 * 5 = 25\n5 * 6 = 30\n5 * 7 = 35\n5 * 8 = 40\n5 * 9 = 45\n5 * 10 = 50\n"
     ]
    }
   ],
   "source": [
    "n = int(input(\"Enter the number \"))  \n",
    "for i in range(1,11):  #here 1st parameter is start. 2nd parameter is end. but loop run until end-1.\n",
    "    c = n*i  \n",
    "    print(n,\"*\",i,\"=\",c)"
   ]
  },
  {
   "cell_type": "code",
   "execution_count": 15,
   "metadata": {},
   "outputs": [
    {
     "output_type": "stream",
     "name": "stdout",
     "text": [
      "2\n4\n6\n"
     ]
    }
   ],
   "source": [
    "n = int(input(\"Enter the number \"))  \n",
    "for i in range(2,n,2):  #here, the 3rd arg is step value used.\n",
    "    print(i) "
   ]
  },
  {
   "cell_type": "code",
   "execution_count": 16,
   "metadata": {},
   "outputs": [
    {
     "output_type": "stream",
     "name": "stdout",
     "text": [
      "\n1\n22\n333\n4444\n55555\n"
     ]
    }
   ],
   "source": [
    "rows = int(input(\"Enter the rows\"))  \n",
    "for i in range(0,rows+1):  \n",
    "    for j in range(i):     # nested for loop\n",
    "        print(i,end = '')  \n",
    "    print()  "
   ]
  },
  {
   "cell_type": "code",
   "execution_count": 22,
   "metadata": {},
   "outputs": [
    {
     "output_type": "stream",
     "name": "stdout",
     "text": [
      "1st loop\n11st loop\n221st loop\n3331st loop\n44441st loop\n555551st loop\n6666661st loop\n77777771st loop\n1st loop\n1st loop\n1st loop\n2nd loop\n"
     ]
    }
   ],
   "source": [
    "rows = int(input(\"Enter the rows\"))  \n",
    "for i in range(0,rows+1):  \n",
    "    for j in range(i):          #the scope of break\n",
    "        if(i<8):\n",
    "            print(i,end = '')\n",
    "        else:\n",
    "            break  \n",
    "    print(\"1st loop\")\n",
    "print(\"2nd loop\") "
   ]
  },
  {
   "cell_type": "code",
   "execution_count": 30,
   "metadata": {},
   "outputs": [
    {
     "output_type": "stream",
     "name": "stdout",
     "text": [
      "Current Letter : h\nCurrent Letter : e\nCurrent Letter : l\nCurrent Letter : l\nCurrent Letter : o\n"
     ]
    }
   ],
   "source": [
    "i = 0  \n",
    "str1 = 'hello world'  \n",
    "  \n",
    "while i < len(str1):   \n",
    "    if str1[i] == ' ':   \n",
    "        i += 1  \n",
    "        break  \n",
    "    print('Current Letter :', str1[i])   \n",
    "    i += 1 "
   ]
  },
  {
   "cell_type": "code",
   "execution_count": 34,
   "metadata": {},
   "outputs": [
    {
     "output_type": "stream",
     "name": "stdout",
     "text": [
      "Current Letter : h\nCurrent Letter : e\nCurrent Letter : l\nCurrent Letter : l\nCurrent Letter : w\nCurrent Letter : r\nCurrent Letter : l\nCurrent Letter : d\n"
     ]
    }
   ],
   "source": [
    "i = 0  \n",
    "str1 = 'hello world'  \n",
    "  \n",
    "while i < len(str1):   \n",
    "    if str1[i] == ' ' or str1[i] == 'o':   \n",
    "        i += 1  \n",
    "        continue       # continue just skips the value, when it meets the given condition. unlike break, where it just breaks the loop\n",
    "    print('Current Letter :', str1[i])   \n",
    "    i += 1 "
   ]
  },
  {
   "cell_type": "code",
   "execution_count": 35,
   "metadata": {},
   "outputs": [
    {
     "output_type": "stream",
     "name": "stdout",
     "text": [
      "Value of i : 11\n"
     ]
    }
   ],
   "source": [
    "str1 = 'hello world'  \n",
    "i = 0  \n",
    "  \n",
    "while i < len(str1):   \n",
    "    i += 1  \n",
    "    pass  #used to declare empty loop\n",
    "print('Value of i :', i)  "
   ]
  },
  {
   "cell_type": "code",
   "execution_count": 36,
   "metadata": {},
   "outputs": [
    {
     "output_type": "stream",
     "name": "stdout",
     "text": [
      "Hi! we are inside the infinite while loop\n"
     ]
    }
   ],
   "source": [
    "while (1):    \n",
    "    print(\"Hi! we are inside the infinite while loop\")  \n",
    "    break # not until we use this"
   ]
  },
  {
   "cell_type": "code",
   "execution_count": 37,
   "metadata": {},
   "outputs": [
    {
     "output_type": "stream",
     "name": "stdout",
     "text": [
      "1\n2\n"
     ]
    }
   ],
   "source": [
    "i=1    \n",
    "while(i<=5):    \n",
    "    print(i)    \n",
    "    i=i+1    \n",
    "    if(i==3):    \n",
    "        break   \n",
    "else:  \n",
    "    print(\"The while loop exhausted\") "
   ]
  },
  {
   "cell_type": "code",
   "execution_count": 1,
   "metadata": {},
   "outputs": [
    {
     "output_type": "stream",
     "name": "stdout",
     "text": [
      "Hello world\n<class 'str'>\n"
     ]
    }
   ],
   "source": [
    "str1 = 'Hello world'  \n",
    "print(str1)\n",
    "print(type(str1))"
   ]
  },
  {
   "cell_type": "code",
   "execution_count": 4,
   "metadata": {},
   "outputs": [
    {
     "output_type": "stream",
     "name": "stdout",
     "text": [
      "rohit\nit\nit\ntihor\n"
     ]
    }
   ],
   "source": [
    "str = \"rohit\"   \n",
    "#index slicing\n",
    "print(str[0:])   # 0 to 4th index\n",
    "print(str[3:5])  # 3rd to 4th index \n",
    "print(str[-2:]) #negative indexing will print from the other end\n",
    "print(str[::-1])  #simplest way to reverse string using step"
   ]
  },
  {
   "cell_type": "code",
   "execution_count": 6,
   "metadata": {},
   "outputs": [
    {
     "output_type": "stream",
     "name": "stdout",
     "text": [
      "HelloHelloHello\nHello world\no\nll\nFalse\nFalse\nC://python37\nThe string str : Hello\nThe string str : Hello\n"
     ]
    }
   ],
   "source": [
    "str = \"Hello\"     \n",
    "str1 = \" world\"    \n",
    "print(str*3) # replicates    \n",
    "print(str+str1)# gives Hello world     \n",
    "print(str[4]) # prints o                \n",
    "print(str[2:4]); # prints ll                    \n",
    "print('w' in str) # as w is not present in str, it prints false \n",
    "print('wo' not in str1) # as wo is present in str1,it prints false      \n",
    "print(r'C://python37') # prints C://python37 as it is written    \n",
    "print(\"The string str : %s\"%(str)) # prints The string str : Hello  \n",
    "print(\"The string str :\",str)  # same as before"
   ]
  },
  {
   "cell_type": "code",
   "execution_count": null,
   "metadata": {},
   "outputs": [],
   "source": []
  }
 ]
}